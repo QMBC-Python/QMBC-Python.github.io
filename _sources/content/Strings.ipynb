{
 "nbformat": 4,
 "nbformat_minor": 0,
 "metadata": {
  "colab": {
   "name": "Strings.ipynb",
   "provenance": [],
   "collapsed_sections": [],
   "authorship_tag": "ABX9TyM/UbjBxe7BqTjLoPTVDlsm",
   "include_colab_link": true
  },
  "kernelspec": {
   "name": "python3",
   "display_name": "Python 3"
  },
  "language_info": {
   "name": "python"
  }
 },
 "cells": [
  {
   "cell_type": "markdown",
   "metadata": {
    "id": "view-in-github",
    "colab_type": "text"
   },
   "source": [
    "<a href=\"https://colab.research.google.com/github/QMBC-Python/QMBC-Python.github.io/blob/main/content/Strings.ipynb\" target=\"_blank\"><img alt=\"Open In Colab\" src=\"https://colab.research.google.com/assets/colab-badge.svg\"/></a>"
   ]
  },
  {
   "cell_type": "markdown",
   "source": [
    "# 3.4 - Strings"
   ],
   "metadata": {
    "id": "W8crM_qN3kNH"
   }
  },
  {
   "cell_type": "code",
   "source": [
    ""
   ],
   "metadata": {
    "id": "ZZ4UqJcoGvy3"
   },
   "execution_count": null,
   "outputs": []
  }
 ]
}